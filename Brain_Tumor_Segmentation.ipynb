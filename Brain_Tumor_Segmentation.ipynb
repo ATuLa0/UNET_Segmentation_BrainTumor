{
  "nbformat": 4,
  "nbformat_minor": 0,
  "metadata": {
    "colab": {
      "provenance": [],
      "gpuType": "T4"
    },
    "kernelspec": {
      "name": "python3",
      "display_name": "Python 3"
    },
    "language_info": {
      "name": "python"
    },
    "accelerator": "GPU"
  },
  "cells": [
    {
      "source": [
        "from tensorflow.keras.models import Sequential, Model\n",
        "from keras.layers import Dense, Dropout, UpSampling2D, Conv2DTranspose ,BatchNormalization, MaxPooling2D, Conv2D, MaxPool2D, Flatten, Input, Activation, Concatenate, Dense\n",
        "from tensorflow.keras.optimizers import Adam\n",
        "from tensorflow.keras.callbacks import ModelCheckpoint\n",
        "from tensorflow.keras.preprocessing.image import ImageDataGenerator\n",
        "import numpy as np\n",
        "from google.colab.patches import cv2_imshow\n",
        "import cv2\n",
        "import os\n",
        "import matplotlib.pyplot as plt\n",
        "import tensorflow as tf\n",
        "\n",
        "H = 256\n",
        "W = 256"
      ],
      "cell_type": "code",
      "metadata": {
        "id": "axBwXOWbVKv8"
      },
      "execution_count": null,
      "outputs": []
    },
    {
      "cell_type": "code",
      "source": [
        "np.random.seed(42)\n",
        "tf.random.set_seed(42)"
      ],
      "metadata": {
        "id": "72xyFghsFgkf"
      },
      "execution_count": null,
      "outputs": []
    },
    {
      "cell_type": "markdown",
      "source": [
        "# Build Model"
      ],
      "metadata": {
        "id": "588dg1Z1Ptws"
      }
    },
    {
      "cell_type": "code",
      "source": [
        "def double_conv_block(x, num_filters):\n",
        "  # Conv2D + Relu activation\n",
        "  x = Conv2D(filters=num_filters, kernel_size=3,padding=\"same\")(x)\n",
        "  x = BatchNormalization()(x)\n",
        "  x = Activation(\"relu\")(x)\n",
        "  x = Conv2D(filters=num_filters, kernel_size=3,padding=\"same\")(x)\n",
        "  x = BatchNormalization()(x)\n",
        "  x = Activation(\"relu\")(x)\n",
        "  return x"
      ],
      "metadata": {
        "id": "icRElYs9Uex5"
      },
      "execution_count": null,
      "outputs": []
    },
    {
      "cell_type": "code",
      "source": [
        "def downsampling_block(x, num_filters):\n",
        "  # Double convolution block\n",
        "  skip_connection = double_conv_block(x, num_filters)\n",
        "  #MaxPooling\n",
        "  p = MaxPooling2D(pool_size=2)(skip_connection)\n",
        "  p = Dropout(0.2)(p)\n",
        "  return skip_connection, p"
      ],
      "metadata": {
        "id": "YatqlrxlWIjR"
      },
      "execution_count": null,
      "outputs": []
    },
    {
      "cell_type": "code",
      "source": [
        "def upsampling_block(x, skip_connection, num_filters):\n",
        "  # Upsample\n",
        "  x = Conv2DTranspose(filters=num_filters, kernel_size=2, strides=2, padding=\"same\")(x)\n",
        "  # Concatenate\n",
        "  x = Concatenate()([x, skip_connection])\n",
        "  # Double Conv\n",
        "  x = double_conv_block(x, num_filters)\n",
        "  return x"
      ],
      "metadata": {
        "id": "RNOb2-x5Yhmy"
      },
      "execution_count": null,
      "outputs": []
    },
    {
      "cell_type": "code",
      "source": [
        "def U_NET(width, height, channels):\n",
        "  inputs = Input(shape=(width, height, channels))\n",
        "\n",
        "  # Encoder\n",
        "  # downsample 1\n",
        "  f1, d1 = downsampling_block(inputs, 64)\n",
        "  # downsample 2\n",
        "  f2, d2 = downsampling_block(d1,128)\n",
        "  # downsample 3\n",
        "  f3, d3 = downsampling_block(d2,256)\n",
        "  # downsample 4\n",
        "  f4, d4 = downsampling_block(d3, 512)\n",
        "\n",
        "  # bottleneck\n",
        "  bottleneck = double_conv_block(d4, 1024)\n",
        "\n",
        "  # Decoder\n",
        "  # upsample 1\n",
        "  u1 = upsampling_block(bottleneck,f4,512)\n",
        "  # upsample 2\n",
        "  u2 = upsampling_block(u1,f3,256)\n",
        "  # upsample 3\n",
        "  u3 = upsampling_block(u2,f2,128)\n",
        "  # upsample 4\n",
        "  u4 = upsampling_block(u3,f1,64)\n",
        "\n",
        "  #Output\n",
        "  outputs = Conv2D(1, 1, padding=\"same\", activation=\"sigmoid\")(u4)\n",
        "\n",
        "  unet_model = Model(inputs=inputs, outputs=outputs,name=\"Mini_U-Net\")\n",
        "  return unet_model"
      ],
      "metadata": {
        "id": "K3jfBHvPa28Q"
      },
      "execution_count": null,
      "outputs": []
    },
    {
      "cell_type": "code",
      "source": [
        "model = U_NET(H,W,3)\n",
        "model.summary()"
      ],
      "metadata": {
        "id": "9TFTFLPDdfkQ",
        "colab": {
          "base_uri": "https://localhost:8080/"
        },
        "outputId": "8ac3f9d3-b3a7-4547-eeaa-7c957b2dd1e2"
      },
      "execution_count": null,
      "outputs": [
        {
          "output_type": "stream",
          "name": "stdout",
          "text": [
            "Model: \"Mini_U-Net\"\n",
            "__________________________________________________________________________________________________\n",
            " Layer (type)                Output Shape                 Param #   Connected to                  \n",
            "==================================================================================================\n",
            " input_6 (InputLayer)        [(None, 256, 256, 3)]        0         []                            \n",
            "                                                                                                  \n",
            " conv2d_95 (Conv2D)          (None, 256, 256, 64)         1792      ['input_6[0][0]']             \n",
            "                                                                                                  \n",
            " batch_normalization_90 (Ba  (None, 256, 256, 64)         256       ['conv2d_95[0][0]']           \n",
            " tchNormalization)                                                                                \n",
            "                                                                                                  \n",
            " activation_90 (Activation)  (None, 256, 256, 64)         0         ['batch_normalization_90[0][0]\n",
            "                                                                    ']                            \n",
            "                                                                                                  \n",
            " conv2d_96 (Conv2D)          (None, 256, 256, 64)         36928     ['activation_90[0][0]']       \n",
            "                                                                                                  \n",
            " batch_normalization_91 (Ba  (None, 256, 256, 64)         256       ['conv2d_96[0][0]']           \n",
            " tchNormalization)                                                                                \n",
            "                                                                                                  \n",
            " activation_91 (Activation)  (None, 256, 256, 64)         0         ['batch_normalization_91[0][0]\n",
            "                                                                    ']                            \n",
            "                                                                                                  \n",
            " max_pooling2d_20 (MaxPooli  (None, 128, 128, 64)         0         ['activation_91[0][0]']       \n",
            " ng2D)                                                                                            \n",
            "                                                                                                  \n",
            " dropout_20 (Dropout)        (None, 128, 128, 64)         0         ['max_pooling2d_20[0][0]']    \n",
            "                                                                                                  \n",
            " conv2d_97 (Conv2D)          (None, 128, 128, 128)        73856     ['dropout_20[0][0]']          \n",
            "                                                                                                  \n",
            " batch_normalization_92 (Ba  (None, 128, 128, 128)        512       ['conv2d_97[0][0]']           \n",
            " tchNormalization)                                                                                \n",
            "                                                                                                  \n",
            " activation_92 (Activation)  (None, 128, 128, 128)        0         ['batch_normalization_92[0][0]\n",
            "                                                                    ']                            \n",
            "                                                                                                  \n",
            " conv2d_98 (Conv2D)          (None, 128, 128, 128)        147584    ['activation_92[0][0]']       \n",
            "                                                                                                  \n",
            " batch_normalization_93 (Ba  (None, 128, 128, 128)        512       ['conv2d_98[0][0]']           \n",
            " tchNormalization)                                                                                \n",
            "                                                                                                  \n",
            " activation_93 (Activation)  (None, 128, 128, 128)        0         ['batch_normalization_93[0][0]\n",
            "                                                                    ']                            \n",
            "                                                                                                  \n",
            " max_pooling2d_21 (MaxPooli  (None, 64, 64, 128)          0         ['activation_93[0][0]']       \n",
            " ng2D)                                                                                            \n",
            "                                                                                                  \n",
            " dropout_21 (Dropout)        (None, 64, 64, 128)          0         ['max_pooling2d_21[0][0]']    \n",
            "                                                                                                  \n",
            " conv2d_99 (Conv2D)          (None, 64, 64, 256)          295168    ['dropout_21[0][0]']          \n",
            "                                                                                                  \n",
            " batch_normalization_94 (Ba  (None, 64, 64, 256)          1024      ['conv2d_99[0][0]']           \n",
            " tchNormalization)                                                                                \n",
            "                                                                                                  \n",
            " activation_94 (Activation)  (None, 64, 64, 256)          0         ['batch_normalization_94[0][0]\n",
            "                                                                    ']                            \n",
            "                                                                                                  \n",
            " conv2d_100 (Conv2D)         (None, 64, 64, 256)          590080    ['activation_94[0][0]']       \n",
            "                                                                                                  \n",
            " batch_normalization_95 (Ba  (None, 64, 64, 256)          1024      ['conv2d_100[0][0]']          \n",
            " tchNormalization)                                                                                \n",
            "                                                                                                  \n",
            " activation_95 (Activation)  (None, 64, 64, 256)          0         ['batch_normalization_95[0][0]\n",
            "                                                                    ']                            \n",
            "                                                                                                  \n",
            " max_pooling2d_22 (MaxPooli  (None, 32, 32, 256)          0         ['activation_95[0][0]']       \n",
            " ng2D)                                                                                            \n",
            "                                                                                                  \n",
            " dropout_22 (Dropout)        (None, 32, 32, 256)          0         ['max_pooling2d_22[0][0]']    \n",
            "                                                                                                  \n",
            " conv2d_101 (Conv2D)         (None, 32, 32, 512)          1180160   ['dropout_22[0][0]']          \n",
            "                                                                                                  \n",
            " batch_normalization_96 (Ba  (None, 32, 32, 512)          2048      ['conv2d_101[0][0]']          \n",
            " tchNormalization)                                                                                \n",
            "                                                                                                  \n",
            " activation_96 (Activation)  (None, 32, 32, 512)          0         ['batch_normalization_96[0][0]\n",
            "                                                                    ']                            \n",
            "                                                                                                  \n",
            " conv2d_102 (Conv2D)         (None, 32, 32, 512)          2359808   ['activation_96[0][0]']       \n",
            "                                                                                                  \n",
            " batch_normalization_97 (Ba  (None, 32, 32, 512)          2048      ['conv2d_102[0][0]']          \n",
            " tchNormalization)                                                                                \n",
            "                                                                                                  \n",
            " activation_97 (Activation)  (None, 32, 32, 512)          0         ['batch_normalization_97[0][0]\n",
            "                                                                    ']                            \n",
            "                                                                                                  \n",
            " max_pooling2d_23 (MaxPooli  (None, 16, 16, 512)          0         ['activation_97[0][0]']       \n",
            " ng2D)                                                                                            \n",
            "                                                                                                  \n",
            " dropout_23 (Dropout)        (None, 16, 16, 512)          0         ['max_pooling2d_23[0][0]']    \n",
            "                                                                                                  \n",
            " conv2d_103 (Conv2D)         (None, 16, 16, 1024)         4719616   ['dropout_23[0][0]']          \n",
            "                                                                                                  \n",
            " batch_normalization_98 (Ba  (None, 16, 16, 1024)         4096      ['conv2d_103[0][0]']          \n",
            " tchNormalization)                                                                                \n",
            "                                                                                                  \n",
            " activation_98 (Activation)  (None, 16, 16, 1024)         0         ['batch_normalization_98[0][0]\n",
            "                                                                    ']                            \n",
            "                                                                                                  \n",
            " conv2d_104 (Conv2D)         (None, 16, 16, 1024)         9438208   ['activation_98[0][0]']       \n",
            "                                                                                                  \n",
            " batch_normalization_99 (Ba  (None, 16, 16, 1024)         4096      ['conv2d_104[0][0]']          \n",
            " tchNormalization)                                                                                \n",
            "                                                                                                  \n",
            " activation_99 (Activation)  (None, 16, 16, 1024)         0         ['batch_normalization_99[0][0]\n",
            "                                                                    ']                            \n",
            "                                                                                                  \n",
            " conv2d_transpose_20 (Conv2  (None, 32, 32, 512)          2097664   ['activation_99[0][0]']       \n",
            " DTranspose)                                                                                      \n",
            "                                                                                                  \n",
            " concatenate_20 (Concatenat  (None, 32, 32, 1024)         0         ['conv2d_transpose_20[0][0]', \n",
            " e)                                                                  'activation_97[0][0]']       \n",
            "                                                                                                  \n",
            " conv2d_105 (Conv2D)         (None, 32, 32, 512)          4719104   ['concatenate_20[0][0]']      \n",
            "                                                                                                  \n",
            " batch_normalization_100 (B  (None, 32, 32, 512)          2048      ['conv2d_105[0][0]']          \n",
            " atchNormalization)                                                                               \n",
            "                                                                                                  \n",
            " activation_100 (Activation  (None, 32, 32, 512)          0         ['batch_normalization_100[0][0\n",
            " )                                                                  ]']                           \n",
            "                                                                                                  \n",
            " conv2d_106 (Conv2D)         (None, 32, 32, 512)          2359808   ['activation_100[0][0]']      \n",
            "                                                                                                  \n",
            " batch_normalization_101 (B  (None, 32, 32, 512)          2048      ['conv2d_106[0][0]']          \n",
            " atchNormalization)                                                                               \n",
            "                                                                                                  \n",
            " activation_101 (Activation  (None, 32, 32, 512)          0         ['batch_normalization_101[0][0\n",
            " )                                                                  ]']                           \n",
            "                                                                                                  \n",
            " conv2d_transpose_21 (Conv2  (None, 64, 64, 256)          524544    ['activation_101[0][0]']      \n",
            " DTranspose)                                                                                      \n",
            "                                                                                                  \n",
            " concatenate_21 (Concatenat  (None, 64, 64, 512)          0         ['conv2d_transpose_21[0][0]', \n",
            " e)                                                                  'activation_95[0][0]']       \n",
            "                                                                                                  \n",
            " conv2d_107 (Conv2D)         (None, 64, 64, 256)          1179904   ['concatenate_21[0][0]']      \n",
            "                                                                                                  \n",
            " batch_normalization_102 (B  (None, 64, 64, 256)          1024      ['conv2d_107[0][0]']          \n",
            " atchNormalization)                                                                               \n",
            "                                                                                                  \n",
            " activation_102 (Activation  (None, 64, 64, 256)          0         ['batch_normalization_102[0][0\n",
            " )                                                                  ]']                           \n",
            "                                                                                                  \n",
            " conv2d_108 (Conv2D)         (None, 64, 64, 256)          590080    ['activation_102[0][0]']      \n",
            "                                                                                                  \n",
            " batch_normalization_103 (B  (None, 64, 64, 256)          1024      ['conv2d_108[0][0]']          \n",
            " atchNormalization)                                                                               \n",
            "                                                                                                  \n",
            " activation_103 (Activation  (None, 64, 64, 256)          0         ['batch_normalization_103[0][0\n",
            " )                                                                  ]']                           \n",
            "                                                                                                  \n",
            " conv2d_transpose_22 (Conv2  (None, 128, 128, 128)        131200    ['activation_103[0][0]']      \n",
            " DTranspose)                                                                                      \n",
            "                                                                                                  \n",
            " concatenate_22 (Concatenat  (None, 128, 128, 256)        0         ['conv2d_transpose_22[0][0]', \n",
            " e)                                                                  'activation_93[0][0]']       \n",
            "                                                                                                  \n",
            " conv2d_109 (Conv2D)         (None, 128, 128, 128)        295040    ['concatenate_22[0][0]']      \n",
            "                                                                                                  \n",
            " batch_normalization_104 (B  (None, 128, 128, 128)        512       ['conv2d_109[0][0]']          \n",
            " atchNormalization)                                                                               \n",
            "                                                                                                  \n",
            " activation_104 (Activation  (None, 128, 128, 128)        0         ['batch_normalization_104[0][0\n",
            " )                                                                  ]']                           \n",
            "                                                                                                  \n",
            " conv2d_110 (Conv2D)         (None, 128, 128, 128)        147584    ['activation_104[0][0]']      \n",
            "                                                                                                  \n",
            " batch_normalization_105 (B  (None, 128, 128, 128)        512       ['conv2d_110[0][0]']          \n",
            " atchNormalization)                                                                               \n",
            "                                                                                                  \n",
            " activation_105 (Activation  (None, 128, 128, 128)        0         ['batch_normalization_105[0][0\n",
            " )                                                                  ]']                           \n",
            "                                                                                                  \n",
            " conv2d_transpose_23 (Conv2  (None, 256, 256, 64)         32832     ['activation_105[0][0]']      \n",
            " DTranspose)                                                                                      \n",
            "                                                                                                  \n",
            " concatenate_23 (Concatenat  (None, 256, 256, 128)        0         ['conv2d_transpose_23[0][0]', \n",
            " e)                                                                  'activation_91[0][0]']       \n",
            "                                                                                                  \n",
            " conv2d_111 (Conv2D)         (None, 256, 256, 64)         73792     ['concatenate_23[0][0]']      \n",
            "                                                                                                  \n",
            " batch_normalization_106 (B  (None, 256, 256, 64)         256       ['conv2d_111[0][0]']          \n",
            " atchNormalization)                                                                               \n",
            "                                                                                                  \n",
            " activation_106 (Activation  (None, 256, 256, 64)         0         ['batch_normalization_106[0][0\n",
            " )                                                                  ]']                           \n",
            "                                                                                                  \n",
            " conv2d_112 (Conv2D)         (None, 256, 256, 64)         36928     ['activation_106[0][0]']      \n",
            "                                                                                                  \n",
            " batch_normalization_107 (B  (None, 256, 256, 64)         256       ['conv2d_112[0][0]']          \n",
            " atchNormalization)                                                                               \n",
            "                                                                                                  \n",
            " activation_107 (Activation  (None, 256, 256, 64)         0         ['batch_normalization_107[0][0\n",
            " )                                                                  ]']                           \n",
            "                                                                                                  \n",
            " conv2d_113 (Conv2D)         (None, 256, 256, 1)          65        ['activation_107[0][0]']      \n",
            "                                                                                                  \n",
            "==================================================================================================\n",
            "Total params: 31055297 (118.47 MB)\n",
            "Trainable params: 31043521 (118.42 MB)\n",
            "Non-trainable params: 11776 (46.00 KB)\n",
            "__________________________________________________________________________________________________\n"
          ]
        }
      ]
    },
    {
      "cell_type": "markdown",
      "source": [
        "# Prepare data"
      ],
      "metadata": {
        "id": "1FqkPYotPw10"
      }
    },
    {
      "cell_type": "code",
      "source": [
        "!unzip /content/drive/MyDrive/Colab\\ Notebooks/DeepLearning/Project/brain_tumor_segmentation.zip -d /content/brain_tumor_segmentation"
      ],
      "metadata": {
        "id": "NVpLFfjmgXZR"
      },
      "execution_count": null,
      "outputs": []
    },
    {
      "cell_type": "code",
      "source": [
        "from glob import glob\n",
        "from sklearn.model_selection import train_test_split\n",
        "import os\n",
        "path_img = '/content/brain_tumor_segmentation'\n",
        "def load_data(data_dir, split=0.2):\n",
        "  images = sorted(glob(os.path.join(data_dir, \"images\", \"*.png\")))\n",
        "  masks = sorted(glob(os.path.join(data_dir, \"masks\", \"*.png\")))\n",
        "  split_size = int(len(images) * split)\n",
        "  train_x, valid_x = train_test_split(images,test_size=split_size,random_state=42)\n",
        "  train_y, valid_y = train_test_split(masks,test_size=split_size,random_state=42)\n",
        "\n",
        "  train_x, test_x = train_test_split(train_x,test_size=split_size, random_state=42)\n",
        "  train_y, test_y = train_test_split(train_y,test_size=split_size, random_state=42)\n",
        "\n",
        "  return (train_x, train_y), (valid_x, valid_y), (test_x, test_y)"
      ],
      "metadata": {
        "id": "87PmnjHmdl5b"
      },
      "execution_count": null,
      "outputs": []
    },
    {
      "cell_type": "code",
      "source": [
        "def read_image(path):\n",
        "  path = path.decode()\n",
        "  x = cv2.imread(path, cv2.IMREAD_COLOR)\n",
        "  x = cv2.resize(x, (H,W))\n",
        "  x  = x/255.0\n",
        "  x = x.astype(np.float32)\n",
        "  return x"
      ],
      "metadata": {
        "id": "8Hr3YhjEvOAZ"
      },
      "execution_count": null,
      "outputs": []
    },
    {
      "cell_type": "code",
      "source": [
        "def read_mask(path):\n",
        "  path = path.decode()\n",
        "  x = cv2.imread(path, cv2.IMREAD_GRAYSCALE)\n",
        "  x = cv2.resize(x, (H,W))\n",
        "  x = x/255.0\n",
        "  x = x.astype(np.float32)\n",
        "  x = np.expand_dims(x, axis=-1)\n",
        "  return x"
      ],
      "metadata": {
        "id": "XDeiv5GJgWRn"
      },
      "execution_count": null,
      "outputs": []
    },
    {
      "cell_type": "code",
      "source": [
        "def tf_parse(x,y):\n",
        "  def _parse(x,y):\n",
        "    x = read_image(x)\n",
        "    y = read_mask(y)\n",
        "    return x,y\n",
        "\n",
        "  x,y = tf.numpy_function(_parse,[x,y],[tf.float32,tf.float32])\n",
        "  x.set_shape([H,W,3])\n",
        "  y.set_shape([H,W,1])\n",
        "  return x,y"
      ],
      "metadata": {
        "id": "HL4z7j0kgcO2"
      },
      "execution_count": null,
      "outputs": []
    },
    {
      "cell_type": "code",
      "source": [
        "def tf_dataset(X, Y, batch=2):\n",
        "    dataset = tf.data.Dataset.from_tensor_slices((X, Y))\n",
        "    dataset = dataset.map(tf_parse)\n",
        "    dataset = dataset.batch(batch)\n",
        "    dataset = dataset.prefetch(10)\n",
        "    return dataset"
      ],
      "metadata": {
        "id": "fs9F3bAR-H7Q"
      },
      "execution_count": null,
      "outputs": []
    },
    {
      "cell_type": "code",
      "source": [
        "batch_size = 8\n",
        "lr = 1e-3\n",
        "num_epochs = 50\n",
        "model_path = os.path.join('/content/', \"model.h5\")\n",
        "csv_path = os.path.join('/content/', \"history.csv\")"
      ],
      "metadata": {
        "id": "pdoGYuiCHJ9l"
      },
      "execution_count": null,
      "outputs": []
    },
    {
      "cell_type": "code",
      "source": [
        "(train_x, train_y), (valid_x, valid_y),(test_x, test_y) = load_data(path_img)"
      ],
      "metadata": {
        "id": "j_fLSq-kp1ZW"
      },
      "execution_count": null,
      "outputs": []
    },
    {
      "cell_type": "code",
      "source": [
        "print(f\"{len(train_x)} - {len(train_y)}\")\n",
        "print(f\"{len(valid_x)} - {len(valid_y)}\")\n",
        "print(f\"{len(test_x)} - {len(test_y)}\")"
      ],
      "metadata": {
        "id": "5ZpJ0k6XqKIO",
        "colab": {
          "base_uri": "https://localhost:8080/"
        },
        "outputId": "1b6e8d7d-3778-4ddf-c842-3deb5d9bf4bb"
      },
      "execution_count": null,
      "outputs": [
        {
          "output_type": "stream",
          "name": "stdout",
          "text": [
            "1840 - 1840\n",
            "612 - 612\n",
            "612 - 612\n"
          ]
        }
      ]
    },
    {
      "cell_type": "code",
      "source": [
        "train_dataset = tf_dataset(train_x, train_y, batch_size)\n",
        "valid_dataset = tf_dataset(valid_x, valid_y, batch_size)"
      ],
      "metadata": {
        "id": "7G16J-EbM5Pn"
      },
      "execution_count": null,
      "outputs": []
    },
    {
      "cell_type": "markdown",
      "source": [
        "# Train & Valid model"
      ],
      "metadata": {
        "id": "lnZXXgF6P4G8"
      }
    },
    {
      "cell_type": "markdown",
      "source": [
        "### Nếu sử dụng để so sánh mức độ khớp khi giao nhau giữa mask của mô hình so với mask thực tế thì sử dụng các loss và metrics như sau"
      ],
      "metadata": {
        "id": "pg-j4j7lfB4m"
      }
    },
    {
      "cell_type": "code",
      "source": [
        "import numpy as np\n",
        "import tensorflow as tf\n",
        "from tensorflow.keras import backend as K\n",
        "\n",
        "smooth = 1e-15\n",
        "def dice_coef(y_true, y_pred):\n",
        "    y_true = tf.keras.layers.Flatten()(y_true)\n",
        "    y_pred = tf.keras.layers.Flatten()(y_pred)\n",
        "    intersection = tf.reduce_sum(y_true * y_pred)\n",
        "    return (2. * intersection + smooth) / (tf.reduce_sum(y_true) + tf.reduce_sum(y_pred) + smooth)\n",
        "\n",
        "def dice_loss(y_true, y_pred):\n",
        "    return 1.0 - dice_coef(y_true, y_pred)\n",
        "\n",
        "model = U_NET(H,W,3)\n",
        "model.compile(loss=dice_loss, optimizer=Adam(lr), metrics=[dice_coef])"
      ],
      "metadata": {
        "id": "bmdLR97IcXSW"
      },
      "execution_count": null,
      "outputs": []
    },
    {
      "cell_type": "code",
      "source": [
        "from tensorflow.keras.callbacks import ModelCheckpoint, CSVLogger, ReduceLROnPlateau, EarlyStopping, TensorBoard\n",
        "callbacks = [\n",
        "        ModelCheckpoint(model_path, verbose=1, save_best_only=True),\n",
        "        ReduceLROnPlateau(monitor='val_loss', factor=0.1, patience=4, min_lr=1e-7, verbose=1),\n",
        "        CSVLogger(csv_path),\n",
        "        EarlyStopping(monitor='val_loss', patience=7, restore_best_weights=False),\n",
        "    ]"
      ],
      "metadata": {
        "id": "mj_TWfcpdzH2"
      },
      "execution_count": null,
      "outputs": []
    },
    {
      "cell_type": "code",
      "source": [
        "H = model.fit(\n",
        "    train_dataset,\n",
        "    epochs=num_epochs,\n",
        "    validation_data=valid_dataset,\n",
        "    callbacks=callbacks\n",
        ")\n",
        "\n",
        "print(H.history.keys())\n",
        "plt.figure()\n",
        "plt.plot(H.history['dice_coef'], label=\"train_dice_coef\")\n",
        "plt.plot(H.history['val_dice_coef'], label=\"val_dice_coef\")\n",
        "plt.plot(H.history['loss'], label = \"train_loss\")\n",
        "plt.plot(H.history['val_loss'], label = \"val_loss\")\n",
        "plt.title('Training Loss and Dice Coefficient')\n",
        "plt.ylabel('Loss/Dice Coefficient')\n",
        "plt.xlabel('Epoch #')\n",
        "plt.legend()\n",
        "plt.show()\n"
      ],
      "metadata": {
        "colab": {
          "base_uri": "https://localhost:8080/",
          "height": 1000
        },
        "id": "2Q7YEuHQceWJ",
        "outputId": "08c47dce-d104-4072-ef50-7d2aec4454e2"
      },
      "execution_count": null,
      "outputs": [
        {
          "output_type": "stream",
          "name": "stdout",
          "text": [
            "Epoch 1/50\n",
            "230/230 [==============================] - ETA: 0s - loss: 0.7813 - dice_coef: 0.2187\n",
            "Epoch 1: val_loss improved from inf to 0.95426, saving model to /content/model.h5\n"
          ]
        },
        {
          "output_type": "stream",
          "name": "stderr",
          "text": [
            "/usr/local/lib/python3.10/dist-packages/keras/src/engine/training.py:3103: UserWarning: You are saving your model as an HDF5 file via `model.save()`. This file format is considered legacy. We recommend using instead the native Keras format, e.g. `model.save('my_model.keras')`.\n",
            "  saving_api.save_model(\n"
          ]
        },
        {
          "output_type": "stream",
          "name": "stdout",
          "text": [
            "\b\b\b\b\b\b\b\b\b\b\b\b\b\b\b\b\b\b\b\b\b\b\b\b\b\b\b\b\b\b\b\b\b\b\b\b\b\b\b\b\b\b\b\b\b\b\b\b\b\b\b\b\b\b\b\b\b\b\b\b\b\b\b\b\b\b\b\b\b\b\b\b\b\b\b\b\b\b\b\b\b\b\b\b\b\r230/230 [==============================] - 170s 692ms/step - loss: 0.7813 - dice_coef: 0.2187 - val_loss: 0.9543 - val_dice_coef: 0.0457 - lr: 0.0010\n",
            "Epoch 2/50\n",
            "230/230 [==============================] - ETA: 0s - loss: 0.5860 - dice_coef: 0.4140\n",
            "Epoch 2: val_loss improved from 0.95426 to 0.89718, saving model to /content/model.h5\n",
            "230/230 [==============================] - 167s 725ms/step - loss: 0.5860 - dice_coef: 0.4140 - val_loss: 0.8972 - val_dice_coef: 0.1031 - lr: 0.0010\n",
            "Epoch 3/50\n",
            "230/230 [==============================] - ETA: 0s - loss: 0.5027 - dice_coef: 0.4973\n",
            "Epoch 3: val_loss improved from 0.89718 to 0.74547, saving model to /content/model.h5\n",
            "230/230 [==============================] - 170s 737ms/step - loss: 0.5027 - dice_coef: 0.4973 - val_loss: 0.7455 - val_dice_coef: 0.2553 - lr: 0.0010\n",
            "Epoch 4/50\n",
            "230/230 [==============================] - ETA: 0s - loss: 0.4634 - dice_coef: 0.5366\n",
            "Epoch 4: val_loss did not improve from 0.74547\n",
            "230/230 [==============================] - 169s 734ms/step - loss: 0.4634 - dice_coef: 0.5366 - val_loss: 0.7549 - val_dice_coef: 0.2435 - lr: 0.0010\n",
            "Epoch 5/50\n",
            "230/230 [==============================] - ETA: 0s - loss: 0.4282 - dice_coef: 0.5718\n",
            "Epoch 5: val_loss improved from 0.74547 to 0.42693, saving model to /content/model.h5\n",
            "230/230 [==============================] - 168s 731ms/step - loss: 0.4282 - dice_coef: 0.5718 - val_loss: 0.4269 - val_dice_coef: 0.5730 - lr: 0.0010\n",
            "Epoch 6/50\n",
            "230/230 [==============================] - ETA: 0s - loss: 0.4150 - dice_coef: 0.5850\n",
            "Epoch 6: val_loss did not improve from 0.42693\n",
            "230/230 [==============================] - 162s 703ms/step - loss: 0.4150 - dice_coef: 0.5850 - val_loss: 0.5856 - val_dice_coef: 0.4150 - lr: 0.0010\n",
            "Epoch 7/50\n",
            "230/230 [==============================] - ETA: 0s - loss: 0.3898 - dice_coef: 0.6102\n",
            "Epoch 7: val_loss did not improve from 0.42693\n",
            "230/230 [==============================] - 161s 699ms/step - loss: 0.3898 - dice_coef: 0.6102 - val_loss: 0.4382 - val_dice_coef: 0.5625 - lr: 0.0010\n",
            "Epoch 8/50\n",
            "230/230 [==============================] - ETA: 0s - loss: 0.3756 - dice_coef: 0.6244\n",
            "Epoch 8: val_loss did not improve from 0.42693\n",
            "230/230 [==============================] - 169s 736ms/step - loss: 0.3756 - dice_coef: 0.6244 - val_loss: 0.4283 - val_dice_coef: 0.5697 - lr: 0.0010\n",
            "Epoch 9/50\n",
            "230/230 [==============================] - ETA: 0s - loss: 0.3579 - dice_coef: 0.6421\n",
            "Epoch 9: val_loss improved from 0.42693 to 0.37629, saving model to /content/model.h5\n",
            "230/230 [==============================] - 164s 713ms/step - loss: 0.3579 - dice_coef: 0.6421 - val_loss: 0.3763 - val_dice_coef: 0.6224 - lr: 0.0010\n",
            "Epoch 10/50\n",
            "230/230 [==============================] - ETA: 0s - loss: 0.3423 - dice_coef: 0.6577\n",
            "Epoch 10: val_loss improved from 0.37629 to 0.34073, saving model to /content/model.h5\n",
            "230/230 [==============================] - 171s 744ms/step - loss: 0.3423 - dice_coef: 0.6577 - val_loss: 0.3407 - val_dice_coef: 0.6587 - lr: 0.0010\n",
            "Epoch 11/50\n",
            "230/230 [==============================] - ETA: 0s - loss: 0.3235 - dice_coef: 0.6765\n",
            "Epoch 11: val_loss improved from 0.34073 to 0.33809, saving model to /content/model.h5\n",
            "230/230 [==============================] - 164s 715ms/step - loss: 0.3235 - dice_coef: 0.6765 - val_loss: 0.3381 - val_dice_coef: 0.6615 - lr: 0.0010\n",
            "Epoch 12/50\n",
            "230/230 [==============================] - ETA: 0s - loss: 0.3141 - dice_coef: 0.6859\n",
            "Epoch 12: val_loss improved from 0.33809 to 0.31529, saving model to /content/model.h5\n",
            "230/230 [==============================] - 168s 732ms/step - loss: 0.3141 - dice_coef: 0.6859 - val_loss: 0.3153 - val_dice_coef: 0.6841 - lr: 0.0010\n",
            "Epoch 13/50\n",
            "230/230 [==============================] - ETA: 0s - loss: 0.2995 - dice_coef: 0.7005\n",
            "Epoch 13: val_loss did not improve from 0.31529\n",
            "230/230 [==============================] - 161s 702ms/step - loss: 0.2995 - dice_coef: 0.7005 - val_loss: 0.3269 - val_dice_coef: 0.6726 - lr: 0.0010\n",
            "Epoch 14/50\n",
            "230/230 [==============================] - ETA: 0s - loss: 0.2796 - dice_coef: 0.7204\n",
            "Epoch 14: val_loss did not improve from 0.31529\n",
            "230/230 [==============================] - 159s 690ms/step - loss: 0.2796 - dice_coef: 0.7204 - val_loss: 0.3193 - val_dice_coef: 0.6809 - lr: 0.0010\n",
            "Epoch 15/50\n",
            "230/230 [==============================] - ETA: 0s - loss: 0.2674 - dice_coef: 0.7326\n",
            "Epoch 15: val_loss did not improve from 0.31529\n",
            "230/230 [==============================] - 166s 720ms/step - loss: 0.2674 - dice_coef: 0.7326 - val_loss: 0.3455 - val_dice_coef: 0.6532 - lr: 0.0010\n",
            "Epoch 16/50\n",
            "230/230 [==============================] - ETA: 0s - loss: 0.2675 - dice_coef: 0.7325\n",
            "Epoch 16: val_loss did not improve from 0.31529\n",
            "\n",
            "Epoch 16: ReduceLROnPlateau reducing learning rate to 0.00010000000474974513.\n",
            "230/230 [==============================] - 169s 733ms/step - loss: 0.2675 - dice_coef: 0.7325 - val_loss: 0.3262 - val_dice_coef: 0.6722 - lr: 0.0010\n",
            "Epoch 17/50\n",
            "230/230 [==============================] - ETA: 0s - loss: 0.2340 - dice_coef: 0.7660\n",
            "Epoch 17: val_loss improved from 0.31529 to 0.25253, saving model to /content/model.h5\n",
            "230/230 [==============================] - 168s 730ms/step - loss: 0.2340 - dice_coef: 0.7660 - val_loss: 0.2525 - val_dice_coef: 0.7479 - lr: 1.0000e-04\n",
            "Epoch 18/50\n",
            "230/230 [==============================] - ETA: 0s - loss: 0.2158 - dice_coef: 0.7842\n",
            "Epoch 18: val_loss improved from 0.25253 to 0.25126, saving model to /content/model.h5\n",
            "230/230 [==============================] - 163s 710ms/step - loss: 0.2158 - dice_coef: 0.7842 - val_loss: 0.2513 - val_dice_coef: 0.7495 - lr: 1.0000e-04\n",
            "Epoch 19/50\n",
            "230/230 [==============================] - ETA: 0s - loss: 0.2098 - dice_coef: 0.7902\n",
            "Epoch 19: val_loss improved from 0.25126 to 0.24399, saving model to /content/model.h5\n",
            "230/230 [==============================] - 171s 744ms/step - loss: 0.2098 - dice_coef: 0.7902 - val_loss: 0.2440 - val_dice_coef: 0.7567 - lr: 1.0000e-04\n",
            "Epoch 20/50\n",
            "230/230 [==============================] - ETA: 0s - loss: 0.2068 - dice_coef: 0.7932\n",
            "Epoch 20: val_loss did not improve from 0.24399\n",
            "230/230 [==============================] - 166s 723ms/step - loss: 0.2068 - dice_coef: 0.7932 - val_loss: 0.2444 - val_dice_coef: 0.7562 - lr: 1.0000e-04\n",
            "Epoch 21/50\n",
            "230/230 [==============================] - ETA: 0s - loss: 0.2034 - dice_coef: 0.7966\n",
            "Epoch 21: val_loss did not improve from 0.24399\n",
            "230/230 [==============================] - 165s 719ms/step - loss: 0.2034 - dice_coef: 0.7966 - val_loss: 0.2454 - val_dice_coef: 0.7554 - lr: 1.0000e-04\n",
            "Epoch 22/50\n",
            "230/230 [==============================] - ETA: 0s - loss: 0.1984 - dice_coef: 0.8016\n",
            "Epoch 22: val_loss improved from 0.24399 to 0.23964, saving model to /content/model.h5\n",
            "230/230 [==============================] - 160s 694ms/step - loss: 0.1984 - dice_coef: 0.8016 - val_loss: 0.2396 - val_dice_coef: 0.7609 - lr: 1.0000e-04\n",
            "Epoch 23/50\n",
            "230/230 [==============================] - ETA: 0s - loss: 0.1961 - dice_coef: 0.8039\n",
            "Epoch 23: val_loss improved from 0.23964 to 0.23806, saving model to /content/model.h5\n",
            "230/230 [==============================] - 171s 744ms/step - loss: 0.1961 - dice_coef: 0.8039 - val_loss: 0.2381 - val_dice_coef: 0.7625 - lr: 1.0000e-04\n",
            "Epoch 24/50\n",
            "230/230 [==============================] - ETA: 0s - loss: 0.1936 - dice_coef: 0.8064\n",
            "Epoch 24: val_loss improved from 0.23806 to 0.23724, saving model to /content/model.h5\n",
            "230/230 [==============================] - 171s 743ms/step - loss: 0.1936 - dice_coef: 0.8064 - val_loss: 0.2372 - val_dice_coef: 0.7633 - lr: 1.0000e-04\n",
            "Epoch 25/50\n",
            "230/230 [==============================] - ETA: 0s - loss: 0.1901 - dice_coef: 0.8099\n",
            "Epoch 25: val_loss did not improve from 0.23724\n",
            "230/230 [==============================] - 169s 737ms/step - loss: 0.1901 - dice_coef: 0.8099 - val_loss: 0.2379 - val_dice_coef: 0.7627 - lr: 1.0000e-04\n",
            "Epoch 26/50\n",
            "230/230 [==============================] - ETA: 0s - loss: 0.1883 - dice_coef: 0.8117\n",
            "Epoch 26: val_loss did not improve from 0.23724\n",
            "230/230 [==============================] - 162s 705ms/step - loss: 0.1883 - dice_coef: 0.8117 - val_loss: 0.2374 - val_dice_coef: 0.7630 - lr: 1.0000e-04\n",
            "Epoch 27/50\n",
            "230/230 [==============================] - ETA: 0s - loss: 0.1865 - dice_coef: 0.8135\n",
            "Epoch 27: val_loss did not improve from 0.23724\n",
            "230/230 [==============================] - 162s 706ms/step - loss: 0.1865 - dice_coef: 0.8135 - val_loss: 0.2444 - val_dice_coef: 0.7564 - lr: 1.0000e-04\n",
            "Epoch 28/50\n",
            "230/230 [==============================] - ETA: 0s - loss: 0.1831 - dice_coef: 0.8169\n",
            "Epoch 28: val_loss improved from 0.23724 to 0.23288, saving model to /content/model.h5\n",
            "230/230 [==============================] - 161s 700ms/step - loss: 0.1831 - dice_coef: 0.8169 - val_loss: 0.2329 - val_dice_coef: 0.7677 - lr: 1.0000e-04\n",
            "Epoch 29/50\n",
            "230/230 [==============================] - ETA: 0s - loss: 0.1809 - dice_coef: 0.8191\n",
            "Epoch 29: val_loss did not improve from 0.23288\n",
            "230/230 [==============================] - 170s 738ms/step - loss: 0.1809 - dice_coef: 0.8191 - val_loss: 0.2362 - val_dice_coef: 0.7642 - lr: 1.0000e-04\n",
            "Epoch 30/50\n",
            "230/230 [==============================] - ETA: 0s - loss: 0.1773 - dice_coef: 0.8227\n",
            "Epoch 30: val_loss improved from 0.23288 to 0.22845, saving model to /content/model.h5\n",
            "230/230 [==============================] - 166s 720ms/step - loss: 0.1773 - dice_coef: 0.8227 - val_loss: 0.2284 - val_dice_coef: 0.7722 - lr: 1.0000e-04\n",
            "Epoch 31/50\n",
            "230/230 [==============================] - ETA: 0s - loss: 0.1752 - dice_coef: 0.8248\n",
            "Epoch 31: val_loss improved from 0.22845 to 0.22778, saving model to /content/model.h5\n",
            "230/230 [==============================] - 162s 702ms/step - loss: 0.1752 - dice_coef: 0.8248 - val_loss: 0.2278 - val_dice_coef: 0.7729 - lr: 1.0000e-04\n",
            "Epoch 32/50\n",
            "230/230 [==============================] - ETA: 0s - loss: 0.1747 - dice_coef: 0.8253\n",
            "Epoch 32: val_loss did not improve from 0.22778\n",
            "230/230 [==============================] - 163s 707ms/step - loss: 0.1747 - dice_coef: 0.8253 - val_loss: 0.2300 - val_dice_coef: 0.7706 - lr: 1.0000e-04\n",
            "Epoch 33/50\n",
            "230/230 [==============================] - ETA: 0s - loss: 0.1703 - dice_coef: 0.8297\n",
            "Epoch 33: val_loss did not improve from 0.22778\n",
            "230/230 [==============================] - 159s 693ms/step - loss: 0.1703 - dice_coef: 0.8297 - val_loss: 0.2289 - val_dice_coef: 0.7718 - lr: 1.0000e-04\n",
            "Epoch 34/50\n",
            "230/230 [==============================] - ETA: 0s - loss: 0.1700 - dice_coef: 0.8300\n",
            "Epoch 34: val_loss improved from 0.22778 to 0.22653, saving model to /content/model.h5\n",
            "230/230 [==============================] - 168s 729ms/step - loss: 0.1700 - dice_coef: 0.8300 - val_loss: 0.2265 - val_dice_coef: 0.7738 - lr: 1.0000e-04\n",
            "Epoch 35/50\n",
            "230/230 [==============================] - ETA: 0s - loss: 0.1659 - dice_coef: 0.8341\n",
            "Epoch 35: val_loss did not improve from 0.22653\n",
            "230/230 [==============================] - 159s 692ms/step - loss: 0.1659 - dice_coef: 0.8341 - val_loss: 0.2267 - val_dice_coef: 0.7741 - lr: 1.0000e-04\n",
            "Epoch 36/50\n",
            "230/230 [==============================] - ETA: 0s - loss: 0.1647 - dice_coef: 0.8353\n",
            "Epoch 36: val_loss improved from 0.22653 to 0.22555, saving model to /content/model.h5\n",
            "230/230 [==============================] - 165s 718ms/step - loss: 0.1647 - dice_coef: 0.8353 - val_loss: 0.2255 - val_dice_coef: 0.7752 - lr: 1.0000e-04\n",
            "Epoch 37/50\n",
            "230/230 [==============================] - ETA: 0s - loss: 0.1627 - dice_coef: 0.8373\n",
            "Epoch 37: val_loss did not improve from 0.22555\n",
            "230/230 [==============================] - 167s 728ms/step - loss: 0.1627 - dice_coef: 0.8373 - val_loss: 0.2258 - val_dice_coef: 0.7747 - lr: 1.0000e-04\n",
            "Epoch 38/50\n",
            "230/230 [==============================] - ETA: 0s - loss: 0.1613 - dice_coef: 0.8387\n",
            "Epoch 38: val_loss improved from 0.22555 to 0.22402, saving model to /content/model.h5\n",
            "230/230 [==============================] - 168s 730ms/step - loss: 0.1613 - dice_coef: 0.8387 - val_loss: 0.2240 - val_dice_coef: 0.7766 - lr: 1.0000e-04\n",
            "Epoch 39/50\n",
            "230/230 [==============================] - ETA: 0s - loss: 0.1587 - dice_coef: 0.8413\n",
            "Epoch 39: val_loss improved from 0.22402 to 0.22309, saving model to /content/model.h5\n",
            "230/230 [==============================] - 167s 727ms/step - loss: 0.1587 - dice_coef: 0.8413 - val_loss: 0.2231 - val_dice_coef: 0.7776 - lr: 1.0000e-04\n",
            "Epoch 40/50\n",
            "230/230 [==============================] - ETA: 0s - loss: 0.1590 - dice_coef: 0.8410\n",
            "Epoch 40: val_loss did not improve from 0.22309\n",
            "230/230 [==============================] - 161s 701ms/step - loss: 0.1590 - dice_coef: 0.8410 - val_loss: 0.2239 - val_dice_coef: 0.7767 - lr: 1.0000e-04\n",
            "Epoch 41/50\n",
            "230/230 [==============================] - ETA: 0s - loss: 0.1546 - dice_coef: 0.8454\n",
            "Epoch 41: val_loss improved from 0.22309 to 0.22114, saving model to /content/model.h5\n",
            "230/230 [==============================] - 171s 744ms/step - loss: 0.1546 - dice_coef: 0.8454 - val_loss: 0.2211 - val_dice_coef: 0.7795 - lr: 1.0000e-04\n",
            "Epoch 42/50\n",
            "230/230 [==============================] - ETA: 0s - loss: 0.1539 - dice_coef: 0.8461\n",
            "Epoch 42: val_loss did not improve from 0.22114\n",
            "230/230 [==============================] - 168s 732ms/step - loss: 0.1539 - dice_coef: 0.8461 - val_loss: 0.2280 - val_dice_coef: 0.7728 - lr: 1.0000e-04\n",
            "Epoch 43/50\n",
            "230/230 [==============================] - ETA: 0s - loss: 0.1516 - dice_coef: 0.8484\n",
            "Epoch 43: val_loss did not improve from 0.22114\n",
            "230/230 [==============================] - 170s 739ms/step - loss: 0.1516 - dice_coef: 0.8484 - val_loss: 0.2310 - val_dice_coef: 0.7693 - lr: 1.0000e-04\n",
            "Epoch 44/50\n",
            "230/230 [==============================] - ETA: 0s - loss: 0.1509 - dice_coef: 0.8491\n",
            "Epoch 44: val_loss did not improve from 0.22114\n",
            "230/230 [==============================] - 164s 711ms/step - loss: 0.1509 - dice_coef: 0.8491 - val_loss: 0.2233 - val_dice_coef: 0.7773 - lr: 1.0000e-04\n",
            "Epoch 45/50\n",
            "230/230 [==============================] - ETA: 0s - loss: 0.1495 - dice_coef: 0.8505\n",
            "Epoch 45: val_loss improved from 0.22114 to 0.21626, saving model to /content/model.h5\n",
            "230/230 [==============================] - 162s 704ms/step - loss: 0.1495 - dice_coef: 0.8505 - val_loss: 0.2163 - val_dice_coef: 0.7844 - lr: 1.0000e-04\n",
            "Epoch 46/50\n",
            "230/230 [==============================] - ETA: 0s - loss: 0.1477 - dice_coef: 0.8523\n",
            "Epoch 46: val_loss did not improve from 0.21626\n",
            "230/230 [==============================] - 164s 711ms/step - loss: 0.1477 - dice_coef: 0.8523 - val_loss: 0.2212 - val_dice_coef: 0.7791 - lr: 1.0000e-04\n",
            "Epoch 47/50\n",
            "230/230 [==============================] - ETA: 0s - loss: 0.1465 - dice_coef: 0.8535\n",
            "Epoch 47: val_loss did not improve from 0.21626\n",
            "230/230 [==============================] - 167s 725ms/step - loss: 0.1465 - dice_coef: 0.8535 - val_loss: 0.2209 - val_dice_coef: 0.7798 - lr: 1.0000e-04\n",
            "Epoch 48/50\n",
            "230/230 [==============================] - ETA: 0s - loss: 0.1474 - dice_coef: 0.8526\n",
            "Epoch 48: val_loss did not improve from 0.21626\n",
            "230/230 [==============================] - 163s 707ms/step - loss: 0.1474 - dice_coef: 0.8526 - val_loss: 0.2206 - val_dice_coef: 0.7800 - lr: 1.0000e-04\n",
            "Epoch 49/50\n",
            "230/230 [==============================] - ETA: 0s - loss: 0.1457 - dice_coef: 0.8543\n",
            "Epoch 49: val_loss did not improve from 0.21626\n",
            "\n",
            "Epoch 49: ReduceLROnPlateau reducing learning rate to 1.0000000474974514e-05.\n",
            "230/230 [==============================] - 170s 739ms/step - loss: 0.1457 - dice_coef: 0.8543 - val_loss: 0.2165 - val_dice_coef: 0.7840 - lr: 1.0000e-04\n",
            "Epoch 50/50\n",
            "230/230 [==============================] - ETA: 0s - loss: 0.1414 - dice_coef: 0.8586\n",
            "Epoch 50: val_loss improved from 0.21626 to 0.21570, saving model to /content/model.h5\n",
            "230/230 [==============================] - 172s 748ms/step - loss: 0.1414 - dice_coef: 0.8586 - val_loss: 0.2157 - val_dice_coef: 0.7849 - lr: 1.0000e-05\n",
            "dict_keys(['loss', 'dice_coef', 'val_loss', 'val_dice_coef', 'lr'])\n"
          ]
        },
        {
          "output_type": "display_data",
          "data": {
            "text/plain": [
              "<Figure size 640x480 with 1 Axes>"
            ],
            "image/png": "[encoded data removed]"
          },
          "metadata": {}
        }
      ]
    },
    {
      "cell_type": "markdown",
      "source": [
        "- Model còn có thể học tốt hơn."
      ],
      "metadata": {
        "id": "qwQKa7UPInON"
      }
    },
    {
      "cell_type": "markdown",
      "source": [
        "# Test & Evaluate"
      ],
      "metadata": {
        "id": "JJO_a6ceP8H6"
      }
    },
    {
      "cell_type": "code",
      "source": [
        "from tqdm import tqdm\n",
        "import tensorflow as tf\n",
        "from tensorflow.keras.utils import CustomObjectScope\n",
        "from sklearn.metrics import f1_score, jaccard_score, precision_score, recall_score"
      ],
      "metadata": {
        "id": "ehV4oeYMP8tD"
      },
      "execution_count": null,
      "outputs": []
    },
    {
      "cell_type": "code",
      "source": [
        "def create_dir(path):\n",
        "  if not os.path.exists(path):\n",
        "    os.makedirs(path)"
      ],
      "metadata": {
        "id": "EL9Jtut2eVpl"
      },
      "execution_count": null,
      "outputs": []
    },
    {
      "cell_type": "code",
      "source": [
        "def save_results(image, mask, y_pred, save_img_path):\n",
        "  mask = np.expand_dims(mask, axis=-1)\n",
        "  mask = np.concatenate([mask,mask,mask],axis=-1)\n",
        "\n",
        "  y_pred = np.expand_dims(y_pred, axis=-1)\n",
        "  y_pred = np.concatenate([y_pred,y_pred,y_pred],axis=-1)\n",
        "  y_pred = y_pred*255\n",
        "\n",
        "  line = np.ones((H,5,3),dtype=np.uint8)*255\n",
        "\n",
        "  cat_images = np.concatenate([image, line, mask, line, y_pred],axis=1)\n",
        "  cv2.imwrite(save_img_path, cat_images)"
      ],
      "metadata": {
        "id": "hxzIq5NDf263"
      },
      "execution_count": null,
      "outputs": []
    },
    {
      "cell_type": "code",
      "source": [
        "my_model = '/content/drive/MyDrive/Colab Notebooks/DeepLearning/model.h5'\n",
        "with CustomObjectScope({\"dice_coef\":dice_coef,\"dice_loss\":dice_loss}):\n",
        "  model = tf.keras.models.load_model(my_model)\n",
        "SCORE = []\n",
        "for x, y in tqdm(zip(test_x, test_y), total=len(test_y)):\n",
        "  # Get path\n",
        "  name = x.split('/')[-1]\n",
        "  # Read img & mask\n",
        "  image = cv2.imread(x, cv2.IMREAD_COLOR)\n",
        "  image = cv2.resize(image, (H,W))\n",
        "  x = image/255.0\n",
        "  x= np.expand_dims(x, axis=0)\n",
        "\n",
        "  mask = cv2.imread(y, cv2.IMREAD_GRAYSCALE)\n",
        "  mask = cv2.resize(mask, (H,W))\n",
        "\n",
        "  # Predict\n",
        "  y_pred = model.predict(x,verbose=0)[0]\n",
        "  y_pred = np.squeeze(y_pred, axis=-1)\n",
        "  y_pred = (y_pred > 0.5).astype(np.uint8) # Object = 1, Background = 0\n",
        "\n",
        "  # Save predict\n",
        "  path_save_pred = '/content/drive/MyDrive/Image/'\n",
        "  create_dir(path_save_pred +'results_brain_tumor')\n",
        "  save_img_path = os.path.join(path_save_pred +'results_brain_tumor', name)\n",
        "  save_results(image, mask, y_pred, save_img_path)\n",
        "\n",
        "  # Flatten\n",
        "  mask = (mask > 0.5).astype(np.uint8).flatten()\n",
        "  y_pred = y_pred.flatten()\n",
        "\n",
        "  # Caculating metric value\n",
        "  f1_value = f1_score(mask, y_pred,labels=[0,1], average='binary')\n",
        "  jac_value = jaccard_score(mask, y_pred,labels=[0,1], average='binary')\n",
        "  precision_value = precision_score(mask, y_pred,labels=[0,1], average='binary')\n",
        "  recall_value = recall_score(mask, y_pred,labels=[0,1], average='binary')\n",
        "  SCORE.append([name, f1_value, jac_value, precision_value, recall_value])"
      ],
      "metadata": {
        "colab": {
          "base_uri": "https://localhost:8080/"
        },
        "id": "NZDN57rXmx7n",
        "outputId": "8a55693a-f902-4923-d6fa-353764a4d3b7"
      },
      "execution_count": null,
      "outputs": [
        {
          "output_type": "stream",
          "name": "stderr",
          "text": [
            "  2%|▏         | 15/612 [00:09<05:08,  1.93it/s]/usr/local/lib/python3.10/dist-packages/sklearn/metrics/_classification.py:1344: UndefinedMetricWarning: Precision is ill-defined and being set to 0.0 due to no predicted samples. Use `zero_division` parameter to control this behavior.\n",
            "  _warn_prf(average, modifier, msg_start, len(result))\n",
            "  7%|▋         | 43/612 [00:18<02:09,  4.40it/s]/usr/local/lib/python3.10/dist-packages/sklearn/metrics/_classification.py:1344: UndefinedMetricWarning: Precision is ill-defined and being set to 0.0 due to no predicted samples. Use `zero_division` parameter to control this behavior.\n",
            "  _warn_prf(average, modifier, msg_start, len(result))\n",
            " 10%|█         | 62/612 [00:23<02:05,  4.39it/s]/usr/local/lib/python3.10/dist-packages/sklearn/metrics/_classification.py:1344: UndefinedMetricWarning: Precision is ill-defined and being set to 0.0 due to no predicted samples. Use `zero_division` parameter to control this behavior.\n",
            "  _warn_prf(average, modifier, msg_start, len(result))\n",
            " 11%|█         | 68/612 [00:25<03:06,  2.92it/s]/usr/local/lib/python3.10/dist-packages/sklearn/metrics/_classification.py:1344: UndefinedMetricWarning: Precision is ill-defined and being set to 0.0 due to no predicted samples. Use `zero_division` parameter to control this behavior.\n",
            "  _warn_prf(average, modifier, msg_start, len(result))\n",
            " 13%|█▎        | 80/612 [00:28<02:15,  3.94it/s]/usr/local/lib/python3.10/dist-packages/sklearn/metrics/_classification.py:1344: UndefinedMetricWarning: Precision is ill-defined and being set to 0.0 due to no predicted samples. Use `zero_division` parameter to control this behavior.\n",
            "  _warn_prf(average, modifier, msg_start, len(result))\n",
            " 14%|█▍        | 85/612 [00:30<01:54,  4.59it/s]/usr/local/lib/python3.10/dist-packages/sklearn/metrics/_classification.py:1344: UndefinedMetricWarning: Precision is ill-defined and being set to 0.0 due to no predicted samples. Use `zero_division` parameter to control this behavior.\n",
            "  _warn_prf(average, modifier, msg_start, len(result))\n",
            " 15%|█▌        | 94/612 [00:31<01:50,  4.69it/s]/usr/local/lib/python3.10/dist-packages/sklearn/metrics/_classification.py:1344: UndefinedMetricWarning: Precision is ill-defined and being set to 0.0 due to no predicted samples. Use `zero_division` parameter to control this behavior.\n",
            "  _warn_prf(average, modifier, msg_start, len(result))\n",
            " 16%|█▌        | 97/612 [00:32<02:19,  3.68it/s]/usr/local/lib/python3.10/dist-packages/sklearn/metrics/_classification.py:1344: UndefinedMetricWarning: Precision is ill-defined and being set to 0.0 due to no predicted samples. Use `zero_division` parameter to control this behavior.\n",
            "  _warn_prf(average, modifier, msg_start, len(result))\n",
            " 16%|█▋        | 100/612 [00:33<02:32,  3.36it/s]/usr/local/lib/python3.10/dist-packages/sklearn/metrics/_classification.py:1344: UndefinedMetricWarning: Precision is ill-defined and being set to 0.0 due to no predicted samples. Use `zero_division` parameter to control this behavior.\n",
            "  _warn_prf(average, modifier, msg_start, len(result))\n",
            " 18%|█▊        | 109/612 [00:36<01:59,  4.21it/s]/usr/local/lib/python3.10/dist-packages/sklearn/metrics/_classification.py:1344: UndefinedMetricWarning: Precision is ill-defined and being set to 0.0 due to no predicted samples. Use `zero_division` parameter to control this behavior.\n",
            "  _warn_prf(average, modifier, msg_start, len(result))\n",
            " 22%|██▏       | 137/612 [00:43<01:46,  4.48it/s]/usr/local/lib/python3.10/dist-packages/sklearn/metrics/_classification.py:1344: UndefinedMetricWarning: Precision is ill-defined and being set to 0.0 due to no predicted samples. Use `zero_division` parameter to control this behavior.\n",
            "  _warn_prf(average, modifier, msg_start, len(result))\n",
            " 23%|██▎       | 140/612 [00:43<01:44,  4.53it/s]/usr/local/lib/python3.10/dist-packages/sklearn/metrics/_classification.py:1344: UndefinedMetricWarning: Precision is ill-defined and being set to 0.0 due to no predicted samples. Use `zero_division` parameter to control this behavior.\n",
            "  _warn_prf(average, modifier, msg_start, len(result))\n",
            " 24%|██▎       | 144/612 [00:44<01:38,  4.73it/s]/usr/local/lib/python3.10/dist-packages/sklearn/metrics/_classification.py:1344: UndefinedMetricWarning: Precision is ill-defined and being set to 0.0 due to no predicted samples. Use `zero_division` parameter to control this behavior.\n",
            "  _warn_prf(average, modifier, msg_start, len(result))\n",
            " 27%|██▋       | 165/612 [00:50<01:36,  4.61it/s]/usr/local/lib/python3.10/dist-packages/sklearn/metrics/_classification.py:1344: UndefinedMetricWarning: Precision is ill-defined and being set to 0.0 due to no predicted samples. Use `zero_division` parameter to control this behavior.\n",
            "  _warn_prf(average, modifier, msg_start, len(result))\n",
            " 27%|██▋       | 167/612 [00:50<01:32,  4.81it/s]/usr/local/lib/python3.10/dist-packages/sklearn/metrics/_classification.py:1344: UndefinedMetricWarning: Precision is ill-defined and being set to 0.0 due to no predicted samples. Use `zero_division` parameter to control this behavior.\n",
            "  _warn_prf(average, modifier, msg_start, len(result))\n",
            " 29%|██▉       | 178/612 [00:53<01:31,  4.73it/s]/usr/local/lib/python3.10/dist-packages/sklearn/metrics/_classification.py:1344: UndefinedMetricWarning: Precision is ill-defined and being set to 0.0 due to no predicted samples. Use `zero_division` parameter to control this behavior.\n",
            "  _warn_prf(average, modifier, msg_start, len(result))\n",
            " 31%|███       | 187/612 [00:54<01:27,  4.84it/s]/usr/local/lib/python3.10/dist-packages/sklearn/metrics/_classification.py:1344: UndefinedMetricWarning: Precision is ill-defined and being set to 0.0 due to no predicted samples. Use `zero_division` parameter to control this behavior.\n",
            "  _warn_prf(average, modifier, msg_start, len(result))\n",
            " 31%|███       | 191/612 [00:55<01:30,  4.67it/s]/usr/local/lib/python3.10/dist-packages/sklearn/metrics/_classification.py:1344: UndefinedMetricWarning: Precision is ill-defined and being set to 0.0 due to no predicted samples. Use `zero_division` parameter to control this behavior.\n",
            "  _warn_prf(average, modifier, msg_start, len(result))\n",
            " 32%|███▏      | 195/612 [00:56<01:33,  4.46it/s]/usr/local/lib/python3.10/dist-packages/sklearn/metrics/_classification.py:1344: UndefinedMetricWarning: Precision is ill-defined and being set to 0.0 due to no predicted samples. Use `zero_division` parameter to control this behavior.\n",
            "  _warn_prf(average, modifier, msg_start, len(result))\n",
            " 33%|███▎      | 205/612 [00:59<01:46,  3.82it/s]/usr/local/lib/python3.10/dist-packages/sklearn/metrics/_classification.py:1344: UndefinedMetricWarning: Precision is ill-defined and being set to 0.0 due to no predicted samples. Use `zero_division` parameter to control this behavior.\n",
            "  _warn_prf(average, modifier, msg_start, len(result))\n",
            " 34%|███▍      | 209/612 [01:00<01:58,  3.41it/s]/usr/local/lib/python3.10/dist-packages/sklearn/metrics/_classification.py:1344: UndefinedMetricWarning: Precision is ill-defined and being set to 0.0 due to no predicted samples. Use `zero_division` parameter to control this behavior.\n",
            "  _warn_prf(average, modifier, msg_start, len(result))\n",
            " 35%|███▍      | 212/612 [01:01<02:04,  3.21it/s]/usr/local/lib/python3.10/dist-packages/sklearn/metrics/_classification.py:1344: UndefinedMetricWarning: Precision is ill-defined and being set to 0.0 due to no predicted samples. Use `zero_division` parameter to control this behavior.\n",
            "  _warn_prf(average, modifier, msg_start, len(result))\n",
            " 35%|███▌      | 215/612 [01:02<01:43,  3.83it/s]/usr/local/lib/python3.10/dist-packages/sklearn/metrics/_classification.py:1344: UndefinedMetricWarning: Precision is ill-defined and being set to 0.0 due to no predicted samples. Use `zero_division` parameter to control this behavior.\n",
            "  _warn_prf(average, modifier, msg_start, len(result))\n",
            " 36%|███▌      | 221/612 [01:03<01:27,  4.46it/s]/usr/local/lib/python3.10/dist-packages/sklearn/metrics/_classification.py:1344: UndefinedMetricWarning: Precision is ill-defined and being set to 0.0 due to no predicted samples. Use `zero_division` parameter to control this behavior.\n",
            "  _warn_prf(average, modifier, msg_start, len(result))\n",
            " 37%|███▋      | 224/612 [01:03<01:21,  4.78it/s]/usr/local/lib/python3.10/dist-packages/sklearn/metrics/_classification.py:1344: UndefinedMetricWarning: Precision is ill-defined and being set to 0.0 due to no predicted samples. Use `zero_division` parameter to control this behavior.\n",
            "  _warn_prf(average, modifier, msg_start, len(result))\n",
            " 38%|███▊      | 234/612 [01:06<01:19,  4.75it/s]/usr/local/lib/python3.10/dist-packages/sklearn/metrics/_classification.py:1344: UndefinedMetricWarning: Precision is ill-defined and being set to 0.0 due to no predicted samples. Use `zero_division` parameter to control this behavior.\n",
            "  _warn_prf(average, modifier, msg_start, len(result))\n",
            " 41%|████      | 251/612 [01:09<01:15,  4.79it/s]/usr/local/lib/python3.10/dist-packages/sklearn/metrics/_classification.py:1344: UndefinedMetricWarning: Precision is ill-defined and being set to 0.0 due to no predicted samples. Use `zero_division` parameter to control this behavior.\n",
            "  _warn_prf(average, modifier, msg_start, len(result))\n",
            " 42%|████▏     | 260/612 [01:11<01:16,  4.58it/s]/usr/local/lib/python3.10/dist-packages/sklearn/metrics/_classification.py:1344: UndefinedMetricWarning: Precision is ill-defined and being set to 0.0 due to no predicted samples. Use `zero_division` parameter to control this behavior.\n",
            "  _warn_prf(average, modifier, msg_start, len(result))\n",
            " 43%|████▎     | 261/612 [01:11<01:20,  4.36it/s]/usr/local/lib/python3.10/dist-packages/sklearn/metrics/_classification.py:1344: UndefinedMetricWarning: Precision is ill-defined and being set to 0.0 due to no predicted samples. Use `zero_division` parameter to control this behavior.\n",
            "  _warn_prf(average, modifier, msg_start, len(result))\n",
            " 47%|████▋     | 286/612 [01:18<01:11,  4.59it/s]/usr/local/lib/python3.10/dist-packages/sklearn/metrics/_classification.py:1344: UndefinedMetricWarning: Precision is ill-defined and being set to 0.0 due to no predicted samples. Use `zero_division` parameter to control this behavior.\n",
            "  _warn_prf(average, modifier, msg_start, len(result))\n",
            " 47%|████▋     | 289/612 [01:18<01:08,  4.70it/s]/usr/local/lib/python3.10/dist-packages/sklearn/metrics/_classification.py:1344: UndefinedMetricWarning: Precision is ill-defined and being set to 0.0 due to no predicted samples. Use `zero_division` parameter to control this behavior.\n",
            "  _warn_prf(average, modifier, msg_start, len(result))\n",
            " 50%|█████     | 306/612 [01:22<01:06,  4.62it/s]/usr/local/lib/python3.10/dist-packages/sklearn/metrics/_classification.py:1344: UndefinedMetricWarning: Precision is ill-defined and being set to 0.0 due to no predicted samples. Use `zero_division` parameter to control this behavior.\n",
            "  _warn_prf(average, modifier, msg_start, len(result))\n",
            " 51%|█████     | 311/612 [01:23<01:08,  4.38it/s]/usr/local/lib/python3.10/dist-packages/sklearn/metrics/_classification.py:1344: UndefinedMetricWarning: Precision is ill-defined and being set to 0.0 due to no predicted samples. Use `zero_division` parameter to control this behavior.\n",
            "  _warn_prf(average, modifier, msg_start, len(result))\n",
            " 51%|█████▏    | 314/612 [01:24<01:06,  4.47it/s]/usr/local/lib/python3.10/dist-packages/sklearn/metrics/_classification.py:1344: UndefinedMetricWarning: Precision is ill-defined and being set to 0.0 due to no predicted samples. Use `zero_division` parameter to control this behavior.\n",
            "  _warn_prf(average, modifier, msg_start, len(result))\n",
            " 54%|█████▍    | 332/612 [01:29<01:03,  4.38it/s]/usr/local/lib/python3.10/dist-packages/sklearn/metrics/_classification.py:1344: UndefinedMetricWarning: Precision is ill-defined and being set to 0.0 due to no predicted samples. Use `zero_division` parameter to control this behavior.\n",
            "  _warn_prf(average, modifier, msg_start, len(result))\n",
            " 55%|█████▌    | 339/612 [01:30<00:59,  4.60it/s]/usr/local/lib/python3.10/dist-packages/sklearn/metrics/_classification.py:1344: UndefinedMetricWarning: Precision is ill-defined and being set to 0.0 due to no predicted samples. Use `zero_division` parameter to control this behavior.\n",
            "  _warn_prf(average, modifier, msg_start, len(result))\n",
            " 56%|█████▌    | 344/612 [01:32<01:19,  3.39it/s]/usr/local/lib/python3.10/dist-packages/sklearn/metrics/_classification.py:1344: UndefinedMetricWarning: Precision is ill-defined and being set to 0.0 due to no predicted samples. Use `zero_division` parameter to control this behavior.\n",
            "  _warn_prf(average, modifier, msg_start, len(result))\n",
            " 59%|█████▉    | 361/612 [01:36<00:57,  4.36it/s]/usr/local/lib/python3.10/dist-packages/sklearn/metrics/_classification.py:1344: UndefinedMetricWarning: Precision is ill-defined and being set to 0.0 due to no predicted samples. Use `zero_division` parameter to control this behavior.\n",
            "  _warn_prf(average, modifier, msg_start, len(result))\n",
            " 61%|██████    | 373/612 [01:39<01:12,  3.30it/s]/usr/local/lib/python3.10/dist-packages/sklearn/metrics/_classification.py:1344: UndefinedMetricWarning: Precision is ill-defined and being set to 0.0 due to no predicted samples. Use `zero_division` parameter to control this behavior.\n",
            "  _warn_prf(average, modifier, msg_start, len(result))\n",
            " 61%|██████▏   | 376/612 [01:40<01:12,  3.26it/s]/usr/local/lib/python3.10/dist-packages/sklearn/metrics/_classification.py:1344: UndefinedMetricWarning: Precision is ill-defined and being set to 0.0 due to no predicted samples. Use `zero_division` parameter to control this behavior.\n",
            "  _warn_prf(average, modifier, msg_start, len(result))\n",
            " 64%|██████▍   | 394/612 [01:44<00:49,  4.42it/s]/usr/local/lib/python3.10/dist-packages/sklearn/metrics/_classification.py:1344: UndefinedMetricWarning: Precision is ill-defined and being set to 0.0 due to no predicted samples. Use `zero_division` parameter to control this behavior.\n",
            "  _warn_prf(average, modifier, msg_start, len(result))\n",
            " 67%|██████▋   | 407/612 [01:47<00:45,  4.51it/s]/usr/local/lib/python3.10/dist-packages/sklearn/metrics/_classification.py:1344: UndefinedMetricWarning: Precision is ill-defined and being set to 0.0 due to no predicted samples. Use `zero_division` parameter to control this behavior.\n",
            "  _warn_prf(average, modifier, msg_start, len(result))\n",
            " 70%|███████   | 429/612 [01:52<00:54,  3.39it/s]/usr/local/lib/python3.10/dist-packages/sklearn/metrics/_classification.py:1344: UndefinedMetricWarning: Precision is ill-defined and being set to 0.0 due to no predicted samples. Use `zero_division` parameter to control this behavior.\n",
            "  _warn_prf(average, modifier, msg_start, len(result))\n",
            " 73%|███████▎  | 446/612 [01:56<00:36,  4.61it/s]/usr/local/lib/python3.10/dist-packages/sklearn/metrics/_classification.py:1344: UndefinedMetricWarning: Precision is ill-defined and being set to 0.0 due to no predicted samples. Use `zero_division` parameter to control this behavior.\n",
            "  _warn_prf(average, modifier, msg_start, len(result))\n",
            " 73%|███████▎  | 449/612 [01:58<00:58,  2.78it/s]/usr/local/lib/python3.10/dist-packages/sklearn/metrics/_classification.py:1344: UndefinedMetricWarning: Precision is ill-defined and being set to 0.0 due to no predicted samples. Use `zero_division` parameter to control this behavior.\n",
            "  _warn_prf(average, modifier, msg_start, len(result))\n",
            " 75%|███████▌  | 461/612 [02:00<00:33,  4.52it/s]/usr/local/lib/python3.10/dist-packages/sklearn/metrics/_classification.py:1344: UndefinedMetricWarning: Precision is ill-defined and being set to 0.0 due to no predicted samples. Use `zero_division` parameter to control this behavior.\n",
            "  _warn_prf(average, modifier, msg_start, len(result))\n",
            " 79%|███████▉  | 486/612 [02:07<00:38,  3.24it/s]/usr/local/lib/python3.10/dist-packages/sklearn/metrics/_classification.py:1344: UndefinedMetricWarning: Precision is ill-defined and being set to 0.0 due to no predicted samples. Use `zero_division` parameter to control this behavior.\n",
            "  _warn_prf(average, modifier, msg_start, len(result))\n",
            " 80%|████████  | 491/612 [02:08<00:29,  4.10it/s]/usr/local/lib/python3.10/dist-packages/sklearn/metrics/_classification.py:1344: UndefinedMetricWarning: Precision is ill-defined and being set to 0.0 due to no predicted samples. Use `zero_division` parameter to control this behavior.\n",
            "  _warn_prf(average, modifier, msg_start, len(result))\n",
            " 82%|████████▏ | 502/612 [02:10<00:24,  4.52it/s]/usr/local/lib/python3.10/dist-packages/sklearn/metrics/_classification.py:1344: UndefinedMetricWarning: Precision is ill-defined and being set to 0.0 due to no predicted samples. Use `zero_division` parameter to control this behavior.\n",
            "  _warn_prf(average, modifier, msg_start, len(result))\n",
            " 86%|████████▋ | 528/612 [02:16<00:17,  4.91it/s]/usr/local/lib/python3.10/dist-packages/sklearn/metrics/_classification.py:1344: UndefinedMetricWarning: Precision is ill-defined and being set to 0.0 due to no predicted samples. Use `zero_division` parameter to control this behavior.\n",
            "  _warn_prf(average, modifier, msg_start, len(result))\n",
            " 87%|████████▋ | 530/612 [02:16<00:17,  4.76it/s]/usr/local/lib/python3.10/dist-packages/sklearn/metrics/_classification.py:1344: UndefinedMetricWarning: Precision is ill-defined and being set to 0.0 due to no predicted samples. Use `zero_division` parameter to control this behavior.\n",
            "  _warn_prf(average, modifier, msg_start, len(result))\n",
            " 87%|████████▋ | 531/612 [02:16<00:16,  4.84it/s]/usr/local/lib/python3.10/dist-packages/sklearn/metrics/_classification.py:1344: UndefinedMetricWarning: Precision is ill-defined and being set to 0.0 due to no predicted samples. Use `zero_division` parameter to control this behavior.\n",
            "  _warn_prf(average, modifier, msg_start, len(result))\n",
            " 88%|████████▊ | 539/612 [02:18<00:21,  3.42it/s]/usr/local/lib/python3.10/dist-packages/sklearn/metrics/_classification.py:1344: UndefinedMetricWarning: Precision is ill-defined and being set to 0.0 due to no predicted samples. Use `zero_division` parameter to control this behavior.\n",
            "  _warn_prf(average, modifier, msg_start, len(result))\n",
            " 89%|████████▉ | 546/612 [02:20<00:17,  3.78it/s]/usr/local/lib/python3.10/dist-packages/sklearn/metrics/_classification.py:1344: UndefinedMetricWarning: Precision is ill-defined and being set to 0.0 due to no predicted samples. Use `zero_division` parameter to control this behavior.\n",
            "  _warn_prf(average, modifier, msg_start, len(result))\n",
            " 93%|█████████▎| 568/612 [02:25<00:09,  4.68it/s]/usr/local/lib/python3.10/dist-packages/sklearn/metrics/_classification.py:1344: UndefinedMetricWarning: Precision is ill-defined and being set to 0.0 due to no predicted samples. Use `zero_division` parameter to control this behavior.\n",
            "  _warn_prf(average, modifier, msg_start, len(result))\n",
            " 94%|█████████▎| 573/612 [02:27<00:14,  2.69it/s]/usr/local/lib/python3.10/dist-packages/sklearn/metrics/_classification.py:1344: UndefinedMetricWarning: Precision is ill-defined and being set to 0.0 due to no predicted samples. Use `zero_division` parameter to control this behavior.\n",
            "  _warn_prf(average, modifier, msg_start, len(result))\n",
            " 95%|█████████▍| 581/612 [02:29<00:07,  4.25it/s]/usr/local/lib/python3.10/dist-packages/sklearn/metrics/_classification.py:1344: UndefinedMetricWarning: Precision is ill-defined and being set to 0.0 due to no predicted samples. Use `zero_division` parameter to control this behavior.\n",
            "  _warn_prf(average, modifier, msg_start, len(result))\n",
            " 96%|█████████▌| 585/612 [02:29<00:05,  4.57it/s]/usr/local/lib/python3.10/dist-packages/sklearn/metrics/_classification.py:1344: UndefinedMetricWarning: Precision is ill-defined and being set to 0.0 due to no predicted samples. Use `zero_division` parameter to control this behavior.\n",
            "  _warn_prf(average, modifier, msg_start, len(result))\n",
            " 97%|█████████▋| 596/612 [02:35<00:09,  1.74it/s]/usr/local/lib/python3.10/dist-packages/sklearn/metrics/_classification.py:1344: UndefinedMetricWarning: Precision is ill-defined and being set to 0.0 due to no predicted samples. Use `zero_division` parameter to control this behavior.\n",
            "  _warn_prf(average, modifier, msg_start, len(result))\n",
            " 98%|█████████▊| 597/612 [02:35<00:07,  2.04it/s]/usr/local/lib/python3.10/dist-packages/sklearn/metrics/_classification.py:1344: UndefinedMetricWarning: Precision is ill-defined and being set to 0.0 due to no predicted samples. Use `zero_division` parameter to control this behavior.\n",
            "  _warn_prf(average, modifier, msg_start, len(result))\n",
            " 98%|█████████▊| 600/612 [02:37<00:05,  2.26it/s]/usr/local/lib/python3.10/dist-packages/sklearn/metrics/_classification.py:1344: UndefinedMetricWarning: Precision is ill-defined and being set to 0.0 due to no predicted samples. Use `zero_division` parameter to control this behavior.\n",
            "  _warn_prf(average, modifier, msg_start, len(result))\n",
            "100%|██████████| 612/612 [02:41<00:00,  3.79it/s]\n"
          ]
        }
      ]
    },
    {
      "cell_type": "code",
      "source": [
        "score = [s[1:] for s in SCORE]\n",
        "score = np.mean(score, axis=0)\n",
        "print(f'F1 Score: {score[0]:0.5f}')\n",
        "print(f'Jaccard Score: {score[1]:0.5f}')\n",
        "print(f'Precision Score: {score[2]:0.5f}')\n",
        "print(f'Recall Score: {score[3]:0.5f}')"
      ],
      "metadata": {
        "colab": {
          "base_uri": "https://localhost:8080/"
        },
        "id": "E84eFUzzjTbQ",
        "outputId": "45c0bfe6-6ee4-4090-dd30-6be3a9bf6974"
      },
      "execution_count": null,
      "outputs": [
        {
          "output_type": "stream",
          "name": "stdout",
          "text": [
            "F1 Score: 0.69000\n",
            "Jaccard Score: 0.60236\n",
            "Precision Score: 0.75635\n",
            "Recall Score: 0.69380\n"
          ]
        }
      ]
    },
    {
      "cell_type": "code",
      "source": [
        "df = pd.DataFrame(SCORE, columns=['name', 'f1_score', 'jaccard_score', 'precision_score', 'recall_score'])\n",
        "df.to_csv('/content/drive/MyDrive/Colab Notebooks/DeepLearning/Project/result_brain_tumor.csv', index=False)"
      ],
      "metadata": {
        "id": "o2GL0SyEFguV"
      },
      "execution_count": null,
      "outputs": []
    }
  ]
}